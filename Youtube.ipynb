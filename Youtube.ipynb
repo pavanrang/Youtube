{
 "cells": [
  {
   "cell_type": "code",
   "execution_count": 1,
   "id": "42812874-6702-4b4b-ad1f-b4e8ad35648b",
   "metadata": {},
   "outputs": [],
   "source": [
    "import os\n",
    "import re\n",
    "\n",
    "from dotenv import load_dotenv\n",
    "from moviepy.config import change_settings"
   ]
  },
  {
   "cell_type": "code",
   "execution_count": 2,
   "id": "d6fdda50-e786-437e-96be-3672c9bd88b8",
   "metadata": {},
   "outputs": [
    {
     "name": "stdout",
     "output_type": "stream",
     "text": [
      "06f99eb528bc46f2a88a7402aebba094 nMCqvCEfIc6j3eNHaZ9vfLXiVjZb8j5bVtzUmYKj9QIpXKU93XbJhdLe C:\\Users\\pavan\\Downloads\\rag\\Automate-YT-Shorts-Video-Resource-\\Backend\\ImageMagick-7.1.1-Q16-HDRI\\magick.exe\n"
     ]
    }
   ],
   "source": [
    "load_dotenv()\n",
    "\n",
    "ASSEMBLY_AI_API_KEY = os.getenv(\"ASSEMBLY_AI_API_KEY\")\n",
    "PEXELS_API_KEY = os.getenv(\"PEXELS_API_KEY\")\n",
    "IMAGEMAGICK_BINARY = os.getenv(\"IMAGEMAGICK_BINARY\",\"C:\\\\Users\\\\pavan\\\\Downloads\\\\rag\\\\Automate-YT-Shorts-Video-Resource-\\\\Backend\\\\ImageMagick-7.1.1-Q16-HDRI\\\\magick.exe\")\n",
    "\n",
    "print(ASSEMBLY_AI_API_KEY, PEXELS_API_KEY, IMAGEMAGICK_BINARY)"
   ]
  },
  {
   "cell_type": "markdown",
   "id": "7265d05d-3245-49c9-a608-2f80217587a7",
   "metadata": {},
   "source": [
    "Lets Cook Script"
   ]
  },
  {
   "cell_type": "code",
   "execution_count": 3,
   "id": "af34446e-dbfa-4fd8-aff5-fcb5e4aac446",
   "metadata": {},
   "outputs": [
    {
     "name": "stdout",
     "output_type": "stream",
     "text": [
      "\"Ever wondered why the Godfather's desk has a fish on it? It's a Sicilian symbol of power, and a warning to those who cross him. One wrong move, and they'll end up like the fish. Don't mess with the Godfather!\"\n",
      "\"Ever wondered how a car engine works? Imagine a band playing a symphony, but instead of instruments, they use pistons and valves! 🎶🚗 Each cylinder is a musician, firing on all cylinders to create the perfect harmony of power and efficiency. But when one cylinder misses a beat, it's like a soloist hitting a sour note. That's where engine maintenance comes in, keeping your car's band in tune and on the road. Stay tuned for more engine symphonies!\"\n"
     ]
    }
   ],
   "source": [
    "import script\n",
    "\n",
    "video_subject = \"Engine\"\n",
    "scripts = script.generate_video_script(video_subject)\n",
    "print(scripts)\n"
   ]
  },
  {
   "cell_type": "markdown",
   "id": "31fbadbe",
   "metadata": {},
   "source": [
    "We need to get tags to search for stock videos"
   ]
  },
  {
   "cell_type": "code",
   "execution_count": 10,
   "id": "cae19330",
   "metadata": {},
   "outputs": [
    {
     "name": "stdout",
     "output_type": "stream",
     "text": [
      "[\n",
      "    \"Engine Maintenance\",\n",
      "    \"Engine Tip Repair\",\n",
      "    \"Engine Oil Changing\",\n",
      "    \"Engine Troubleshooting\",\n",
      "    \"Engine Performance\"\n",
      "]\n"
     ]
    }
   ],
   "source": [
    "import search_terms\n",
    "\n",
    "search_terms = search_terms.get_search_terms(video_subject,5,scripts)\n",
    "\n",
    "print(search_terms)"
   ]
  },
  {
   "cell_type": "markdown",
   "id": "364fd68e",
   "metadata": {},
   "source": [
    "convert the search terms to list "
   ]
  },
  {
   "cell_type": "code",
   "execution_count": 11,
   "id": "ab082401",
   "metadata": {},
   "outputs": [],
   "source": [
    "search_term = eval(search_terms)"
   ]
  },
  {
   "cell_type": "markdown",
   "id": "bdfc41bb",
   "metadata": {},
   "source": [
    "with Those tags now lets search videos"
   ]
  },
  {
   "cell_type": "code",
   "execution_count": 12,
   "id": "5e6cafbc",
   "metadata": {},
   "outputs": [
    {
     "name": "stdout",
     "output_type": "stream",
     "text": [
      "\t=> https://videos.pexels.com/video-files/8987066/8987066-sd_960_540_30fps.mp4\n",
      "\t=> https://videos.pexels.com/video-files/7844136/7844136-hd_1920_1080_25fps.mp4\n",
      "\t=> https://videos.pexels.com/video-files/8987271/8987271-uhd_3840_2160_30fps.mp4\n",
      "\t=> https://videos.pexels.com/video-files/8987292/8987292-hd_720_1280_30fps.mp4\n",
      "\t=> https://videos.pexels.com/video-files/3066460/3066460-hd_2048_1080_24fps.mp4\n"
     ]
    }
   ],
   "source": [
    "import search_videos\n",
    "\n",
    "links = search_videos.search_for_stock_videos(search_term, PEXELS_API_KEY)"
   ]
  },
  {
   "cell_type": "code",
   "execution_count": 13,
   "id": "8bbe021c",
   "metadata": {},
   "outputs": [
    {
     "name": "stdout",
     "output_type": "stream",
     "text": [
      "./temp/1.mp4\n",
      "./temp/2.mp4\n",
      "./temp/3.mp4\n",
      "./temp/4.mp4\n",
      "./temp/5.mp4\n"
     ]
    }
   ],
   "source": [
    "import save_video\n",
    "\n",
    "video_paths = save_video.save_video(links)"
   ]
  },
  {
   "cell_type": "markdown",
   "id": "753cfc48",
   "metadata": {},
   "source": [
    "Now lets convert the script to Audio and Subtitles"
   ]
  },
  {
   "cell_type": "code",
   "execution_count": 14,
   "id": "c4b9b0c0",
   "metadata": {},
   "outputs": [],
   "source": [
    "import tts\n",
    "a = re.sub(r\"\\s+\", \" \", scripts)\n",
    "a=a[1:-1]\n",
    "audio_file, subtitle_file = tts.text_to_speech(a)\n"
   ]
  },
  {
   "cell_type": "markdown",
   "id": "eeb37c5b",
   "metadata": {},
   "source": [
    "combine the stock videos"
   ]
  },
  {
   "cell_type": "code",
   "execution_count": 15,
   "id": "d83feefb",
   "metadata": {},
   "outputs": [
    {
     "name": "stderr",
     "output_type": "stream",
     "text": [
      "C:\\Users\\pavan\\AppData\\Local\\Programs\\ArcGIS\\Pro\\bin\\Python\\envs\\arcgispro-py3\\Lib\\site-packages\\scipy\\__init__.py:169: UserWarning: A NumPy version >=1.18.5 and <1.26.0 is required for this version of SciPy (detected version 1.26.4\n",
      "  warnings.warn(f\"A NumPy version >={np_minversion} and <{np_maxversion}\"\n"
     ]
    },
    {
     "name": "stdout",
     "output_type": "stream",
     "text": [
      "Moviepy - Building video ./temp/combined_video.mp4.\n",
      "Moviepy - Writing video ./temp/combined_video.mp4\n",
      "\n"
     ]
    },
    {
     "name": "stderr",
     "output_type": "stream",
     "text": [
      "                                                                                                                       \r"
     ]
    },
    {
     "name": "stdout",
     "output_type": "stream",
     "text": [
      "Moviepy - Done !\n",
      "Moviepy - video ready ./temp/combined_video.mp4\n"
     ]
    }
   ],
   "source": [
    "import combine\n",
    "\n",
    "combined_video_path = combine.combine_videos(video_paths,combine.AudioFileClip(audio_file).duration)"
   ]
  },
  {
   "cell_type": "code",
   "execution_count": 16,
   "id": "76777736",
   "metadata": {},
   "outputs": [
    {
     "name": "stdout",
     "output_type": "stream",
     "text": [
      "./temp/combined_video.mp4 output.mp3 output.srt\n"
     ]
    }
   ],
   "source": [
    "print(combined_video_path,audio_file, subtitle_file )"
   ]
  },
  {
   "cell_type": "code",
   "execution_count": 21,
   "id": "593a3536",
   "metadata": {},
   "outputs": [
    {
     "name": "stdout",
     "output_type": "stream",
     "text": [
      "06f99eb528bc46f2a88a7402aebba094\n",
      "[+] Subtitles generated.\n"
     ]
    }
   ],
   "source": [
    "import video\n",
    "subtitle_path = video.generate_subtitles(audio_file, ASSEMBLY_AI_API_KEY)"
   ]
  },
  {
   "cell_type": "code",
   "execution_count": 22,
   "id": "82a95fd9",
   "metadata": {},
   "outputs": [
    {
     "name": "stdout",
     "output_type": "stream",
     "text": [
      "Moviepy - Building video ./temp/output_with_audio_subs.mp4.\n",
      "MoviePy - Writing audio in output_with_audio_subsTEMP_MPY_wvf_snd.mp4\n"
     ]
    },
    {
     "name": "stderr",
     "output_type": "stream",
     "text": [
      "                                                                                                                       \r"
     ]
    },
    {
     "name": "stdout",
     "output_type": "stream",
     "text": [
      "MoviePy - Done.\n",
      "Moviepy - Writing video ./temp/output_with_audio_subs.mp4\n",
      "\n"
     ]
    },
    {
     "name": "stderr",
     "output_type": "stream",
     "text": [
      "                                                                                                                       \r"
     ]
    },
    {
     "name": "stdout",
     "output_type": "stream",
     "text": [
      "Moviepy - Done !\n",
      "Moviepy - video ready ./temp/output_with_audio_subs.mp4\n",
      "Video successfully generated: ./temp/output_with_audio_subs.mp4\n"
     ]
    }
   ],
   "source": [
    "import final\n",
    "final.generate_video(combined_video_path,audio_file, subtitle_path )"
   ]
  }
 ],
 "metadata": {
  "kernelspec": {
   "display_name": "Python 3 (ipykernel)",
   "language": "python",
   "name": "python3"
  },
  "language_info": {
   "codemirror_mode": {
    "name": "ipython",
    "version": 3
   },
   "file_extension": ".py",
   "mimetype": "text/x-python",
   "name": "python",
   "nbconvert_exporter": "python",
   "pygments_lexer": "ipython3",
   "version": "3.11.8"
  }
 },
 "nbformat": 4,
 "nbformat_minor": 5
}
